{
 "cells": [
  {
   "cell_type": "markdown",
   "id": "3285c933",
   "metadata": {},
   "source": [
    "## Data Types\n",
    "\n",
    "- En programación, el tipo de dato es un concepto muy importante\n",
    "\n",
    "- Las variables pueden guardar datos de diferentes tipos, y diferentes tipos pueden hacer diferentes cosas\n",
    "\n",
    "- Python tiene los siguientes tipo de datos clasificadas en las siguientes categorías:\n",
    "\n",
    "\n",
    "\n",
    "| Clasificación | tipos de datos | \n",
    "|----------------|-----|\n",
    "| Text Type\t | `str` | \n",
    "| Numeric Types\t | `int, float, complex` | \n",
    "| Sequence Types\t | `list, tuple, range` | \n",
    "| Mapping Type\t | `dict` | \n",
    "| Set Types\t | `set, frozenset` | \n",
    "| Boolean Types\t | `bool` | \n",
    "| Binary Types\t | `bytes, bytearray, memoryview` | \n",
    "| None Types\t | `NoneType` | "
   ]
  },
  {
   "cell_type": "markdown",
   "id": "13564ef4",
   "metadata": {},
   "source": [
    "## Obteniendo el tipo de dato\n",
    "- Se puede obtener el tipo de cualquier objeto usando la función `type()`\n"
   ]
  },
  {
   "cell_type": "code",
   "execution_count": 1,
   "id": "4b4d350f",
   "metadata": {},
   "outputs": [
    {
     "name": "stdout",
     "output_type": "stream",
     "text": [
      "<class 'int'>\n"
     ]
    }
   ],
   "source": [
    "x = 5\n",
    "print(type(x))"
   ]
  },
  {
   "cell_type": "markdown",
   "id": "d7a1198f",
   "metadata": {},
   "source": [
    "## Estableciendo el tipo de dato\n",
    "\n",
    "- En python, el tipo de dato se establece en el momento en el que un valor se asigna a una variable"
   ]
  },
  {
   "cell_type": "code",
   "execution_count": 10,
   "id": "3d8bc2f1",
   "metadata": {},
   "outputs": [
    {
     "name": "stdout",
     "output_type": "stream",
     "text": [
      "<class 'str'>\n",
      "<class 'int'>\n",
      "<class 'float'>\n",
      "<class 'complex'>\n",
      "<class 'list'>\n",
      "<class 'range'>\n",
      "<class 'tuple'>\n",
      "<class 'dict'>\n",
      "<class 'set'>\n",
      "<class 'range'>\n",
      "<class 'bool'>\n",
      "<class 'NoneType'>\n"
     ]
    }
   ],
   "source": [
    "x = \"Hello World\"\n",
    "print(type(x))\n",
    "x = 20\n",
    "print(type(x))\n",
    "x = 20.5\n",
    "print(type(x))\n",
    "x = 1j\n",
    "print(type(x))\n",
    "x = [\"apple\", \"banana\", \"cherry\"]\n",
    "print(type(x))\n",
    "x = range(6)\n",
    "print(type(x))\n",
    "x = (\"apple\", \"banana\", \"cherry\")\n",
    "print(type(x))\n",
    "x = {\"name\" : \"John\", \"age\" : 36}\n",
    "print(type(x))\n",
    "x = {\"apple\", \"banana\", \"cherry\"}\n",
    "print(type(x))\n",
    "x = range(6)\n",
    "print(type(x))\n",
    "x = True\n",
    "print(type(x))\n",
    "x = None\n",
    "print(type(x))"
   ]
  },
  {
   "cell_type": "markdown",
   "id": "68ccdd49",
   "metadata": {},
   "source": [
    "## Especificar el tipo de dato\n",
    "\n",
    "- Si se requiere especificar el tipo de dato, es posible con los siguientes comandos:"
   ]
  },
  {
   "cell_type": "code",
   "execution_count": 11,
   "id": "e8772635",
   "metadata": {},
   "outputs": [
    {
     "name": "stdout",
     "output_type": "stream",
     "text": [
      "<class 'str'>\n",
      "<class 'int'>\n",
      "<class 'float'>\n",
      "<class 'complex'>\n",
      "<class 'list'>\n",
      "<class 'range'>\n",
      "<class 'tuple'>\n",
      "<class 'dict'>\n",
      "<class 'set'>\n",
      "<class 'range'>\n",
      "<class 'bool'>\n"
     ]
    }
   ],
   "source": [
    "x = str(\"Hello World\")\n",
    "print(type(x))\n",
    "x = int(20)\n",
    "print(type(x))\n",
    "x = float(20.5)\n",
    "print(type(x))\n",
    "x = complex(1j)\n",
    "print(type(x))\n",
    "x = list((\"apple\", \"banana\", \"cherry\"))\n",
    "print(type(x))\n",
    "x = range(6)\n",
    "print(type(x))\n",
    "x = tuple((\"apple\", \"banana\", \"cherry\"))\n",
    "print(type(x))\n",
    "x = dict(name=\"John\", age=36)\n",
    "print(type(x))\n",
    "x = set((\"apple\", \"banana\", \"cherry\"))\n",
    "print(type(x))\n",
    "x = range(6)\n",
    "print(type(x))\n",
    "x = bool(5)\n",
    "print(type(x))"
   ]
  }
 ],
 "metadata": {
  "kernelspec": {
   "display_name": "Python 3",
   "language": "python",
   "name": "python3"
  },
  "language_info": {
   "codemirror_mode": {
    "name": "ipython",
    "version": 3
   },
   "file_extension": ".py",
   "mimetype": "text/x-python",
   "name": "python",
   "nbconvert_exporter": "python",
   "pygments_lexer": "ipython3",
   "version": "3.8.8"
  }
 },
 "nbformat": 4,
 "nbformat_minor": 5
}
