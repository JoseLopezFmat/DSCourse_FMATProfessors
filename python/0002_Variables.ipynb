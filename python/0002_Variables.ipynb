{
 "cells": [
  {
   "cell_type": "markdown",
   "id": "568bef77",
   "metadata": {},
   "source": [
    "- Las variables son contenedores para guardar valores de datos."
   ]
  },
  {
   "cell_type": "markdown",
   "id": "e6eb46f1",
   "metadata": {},
   "source": [
    "## Creación de Variables\n",
    "- Python no tiene un comando para la declaración de variables.\n",
    "\n",
    "- En Python, las variables son creadas en el momento en el que le asignas un valor"
   ]
  },
  {
   "cell_type": "code",
   "execution_count": 1,
   "id": "e3e28d5b",
   "metadata": {},
   "outputs": [
    {
     "name": "stdout",
     "output_type": "stream",
     "text": [
      "5\n",
      "John\n"
     ]
    }
   ],
   "source": [
    "x = 5\n",
    "y = \"John\"\n",
    "print(x)\n",
    "print(y)"
   ]
  },
  {
   "cell_type": "markdown",
   "id": "0e0ee206",
   "metadata": {},
   "source": [
    "- Las variables no necesitan ser declaradas con algún tipo en particular, y pueden cambiar de tipo después de que han sido creadas."
   ]
  },
  {
   "cell_type": "code",
   "execution_count": 2,
   "id": "66e269d2",
   "metadata": {},
   "outputs": [
    {
     "name": "stdout",
     "output_type": "stream",
     "text": [
      "Sally\n"
     ]
    }
   ],
   "source": [
    "x = 4       # x is of type int\n",
    "x = \"Sally\" # x is now of type str\n",
    "print(x)"
   ]
  },
  {
   "cell_type": "markdown",
   "id": "f693adec",
   "metadata": {},
   "source": [
    "## Casting"
   ]
  },
  {
   "cell_type": "markdown",
   "id": "97c5bb24",
   "metadata": {},
   "source": [
    "- Si se prefiere o necesita especificar el tipo de dato de una variable, esto puede ser realizado con un *casteo*."
   ]
  },
  {
   "cell_type": "code",
   "execution_count": 4,
   "id": "7c7c5016",
   "metadata": {},
   "outputs": [
    {
     "name": "stdout",
     "output_type": "stream",
     "text": [
      "3\n",
      "3\n",
      "3.0\n"
     ]
    }
   ],
   "source": [
    "x = str(3)    # x will be '3'\n",
    "y = int(3)    # y will be 3\n",
    "z = float(3)  # z will be 3.0\n",
    "print(x)\n",
    "print(y)\n",
    "print(z)"
   ]
  },
  {
   "cell_type": "markdown",
   "id": "edc7f91d",
   "metadata": {},
   "source": [
    "## Obtener el tipo de dato"
   ]
  },
  {
   "cell_type": "markdown",
   "id": "ebe9ce0c",
   "metadata": {},
   "source": [
    "- Se puede obtener el tipo de dato de una variable con la función `type()`."
   ]
  },
  {
   "cell_type": "code",
   "execution_count": 5,
   "id": "04de1cdb",
   "metadata": {},
   "outputs": [
    {
     "name": "stdout",
     "output_type": "stream",
     "text": [
      "<class 'int'>\n",
      "<class 'str'>\n"
     ]
    }
   ],
   "source": [
    "x = 5\n",
    "y = \"John\"\n",
    "print(type(x))\n",
    "print(type(y))"
   ]
  },
  {
   "cell_type": "markdown",
   "id": "e25ef1db",
   "metadata": {},
   "source": [
    "- String variables can be declared either by using single or double quotes:"
   ]
  },
  {
   "cell_type": "code",
   "execution_count": 6,
   "id": "cd7fe8ab",
   "metadata": {},
   "outputs": [],
   "source": [
    "x = \"John\"\n",
    "# is the same as\n",
    "x = 'John'"
   ]
  },
  {
   "cell_type": "markdown",
   "id": "e9a4aedc",
   "metadata": {},
   "source": [
    "## Case-Sensitive"
   ]
  },
  {
   "cell_type": "markdown",
   "id": "707a29af",
   "metadata": {},
   "source": [
    "- Las variables son *case-sensitive*."
   ]
  },
  {
   "cell_type": "code",
   "execution_count": 7,
   "id": "5d7207dd",
   "metadata": {},
   "outputs": [
    {
     "name": "stdout",
     "output_type": "stream",
     "text": [
      "4\n",
      "Sally\n"
     ]
    }
   ],
   "source": [
    "a = 4\n",
    "A = \"Sally\"\n",
    "#A will not overwrite a\n",
    "print(a)\n",
    "print(A)"
   ]
  },
  {
   "cell_type": "markdown",
   "id": "35285bf3",
   "metadata": {},
   "source": [
    "[Python: Nombre de Variables](https://www.w3schools.com/python/python_variables_names.asp)"
   ]
  },
  {
   "cell_type": "markdown",
   "id": "cac70431",
   "metadata": {},
   "source": [
    "=========================\n",
    "========================="
   ]
  },
  {
   "cell_type": "markdown",
   "id": "b402b689",
   "metadata": {},
   "source": [
    "# Asignar múltiples valores"
   ]
  },
  {
   "cell_type": "markdown",
   "id": "a1bfc7a2",
   "metadata": {},
   "source": [
    "## Varios valores a múltiples variables\n",
    "- Python permite asignar valores a múltiples variables en una línea:\n",
    "\n"
   ]
  },
  {
   "cell_type": "code",
   "execution_count": 8,
   "id": "b584e0ac",
   "metadata": {},
   "outputs": [
    {
     "name": "stdout",
     "output_type": "stream",
     "text": [
      "Orange\n",
      "Banana\n",
      "Cherry\n"
     ]
    }
   ],
   "source": [
    "x, y, z = \"Orange\", \"Banana\", \"Cherry\"\n",
    "print(x)\n",
    "print(y)\n",
    "print(z)"
   ]
  },
  {
   "cell_type": "markdown",
   "id": "5f3ba457",
   "metadata": {},
   "source": [
    "## Un valor a múltiples variables\n",
    "\n",
    "- También es posible asignar el mismo valor a múltiples variables en una línea:"
   ]
  },
  {
   "cell_type": "code",
   "execution_count": 11,
   "id": "c518daff",
   "metadata": {},
   "outputs": [
    {
     "name": "stdout",
     "output_type": "stream",
     "text": [
      "Orange\n",
      "Orange\n",
      "Orange\n"
     ]
    }
   ],
   "source": [
    "x = y = z = \"Orange\"\n",
    "print(x)\n",
    "print(y)\n",
    "print(z)"
   ]
  },
  {
   "cell_type": "markdown",
   "id": "2ca5d2ff",
   "metadata": {},
   "source": [
    "## Desempaquetar una colección de datos\n",
    "- Si se tiene una colección o arreglo de valores en una lista, tuple, etc, Python permite extraer los valores en variables:"
   ]
  },
  {
   "cell_type": "code",
   "execution_count": 12,
   "id": "071e7014",
   "metadata": {},
   "outputs": [
    {
     "name": "stdout",
     "output_type": "stream",
     "text": [
      "['apple', 'banana', 'cherry']\n",
      "apple\n",
      "banana\n",
      "cherry\n"
     ]
    }
   ],
   "source": [
    "fruits = [\"apple\", \"banana\", \"cherry\"]\n",
    "print(fruits)\n",
    "x, y, z = fruits\n",
    "print(x)\n",
    "print(y)\n",
    "print(z)"
   ]
  },
  {
   "cell_type": "markdown",
   "id": "fc99ae38",
   "metadata": {},
   "source": [
    "- Más acerca de [desempaquetar `tuples`](https://www.w3schools.com/python/python_tuples_unpack.asp)"
   ]
  },
  {
   "cell_type": "markdown",
   "id": "0eb2aad5",
   "metadata": {},
   "source": [
    "## Variables Globales\n",
    "\n",
    "- Las variables que son creadas fuera de una función son conocidas como **variables globales** \n",
    "\n",
    "- Las variables globales pueden ser usadas por cualquiera, tanto dentro como fuera de funciones"
   ]
  },
  {
   "cell_type": "code",
   "execution_count": 13,
   "id": "b160f00f",
   "metadata": {},
   "outputs": [
    {
     "name": "stdout",
     "output_type": "stream",
     "text": [
      "Python is awesome\n"
     ]
    }
   ],
   "source": [
    "x = \"awesome\"\n",
    "\n",
    "def myfunc():\n",
    "  print(\"Python is \" + x)\n",
    "\n",
    "myfunc()"
   ]
  },
  {
   "cell_type": "markdown",
   "id": "54234b0a",
   "metadata": {},
   "source": [
    "- Si se ha creado una variable dentro de una función, ésta será local y sólo podrá ser usada adentro de la función. La variable global con el mismo nombre se mantendrá global y con su valor original\n",
    "\n",
    "If you create a variable with the same name inside a function, this variable will be local, and can only be used inside the function. The global variable with the same name will remain as it was, global and with the original value."
   ]
  },
  {
   "cell_type": "code",
   "execution_count": 14,
   "id": "1eed704f",
   "metadata": {},
   "outputs": [
    {
     "name": "stdout",
     "output_type": "stream",
     "text": [
      "Python is fantastic\n",
      "Python is awesome\n"
     ]
    }
   ],
   "source": [
    "x = \"awesome\"\n",
    "\n",
    "def myfunc():\n",
    "    x = \"fantastic\"\n",
    "    print(\"Python is \" + x)\n",
    "\n",
    "myfunc()\n",
    "\n",
    "print(\"Python is \" + x)"
   ]
  },
  {
   "cell_type": "markdown",
   "id": "597dd4cf",
   "metadata": {},
   "source": [
    "### The global Keyword\n",
    "\n",
    "- Normalmente, cuando se crea una variable adentro de una función, esta variable es local y sólo puede ser usada adentro de la función.\n",
    "\n",
    "- Sin embargo, para crear una variable global desde dentro de una función, se puede utilizar la *palabra clave* **global**"
   ]
  },
  {
   "cell_type": "code",
   "execution_count": 16,
   "id": "3de5c5c6",
   "metadata": {},
   "outputs": [
    {
     "name": "stdout",
     "output_type": "stream",
     "text": [
      "Python is UUUUUUFAAAAA\n"
     ]
    }
   ],
   "source": [
    "def myfunc():\n",
    "    global x\n",
    "    x = \"UUUUUUFAAAAA\"\n",
    "\n",
    "myfunc()\n",
    "\n",
    "print(\"Python is \" + x)"
   ]
  },
  {
   "cell_type": "markdown",
   "id": "02f9d4b3",
   "metadata": {},
   "source": [
    "- También se utiliza la palabra clave **global** para cambiar el valor de una variable global desde dentro de una función"
   ]
  },
  {
   "cell_type": "code",
   "execution_count": 18,
   "id": "8f41604c",
   "metadata": {},
   "outputs": [
    {
     "name": "stdout",
     "output_type": "stream",
     "text": [
      "Python is fantastic\n"
     ]
    }
   ],
   "source": [
    "x = \"awesome\"\n",
    "\n",
    "def myfunc():\n",
    "    global x\n",
    "    x = \"fantastic\"\n",
    "\n",
    "myfunc()\n",
    "\n",
    "print(\"Python is \" + x)"
   ]
  },
  {
   "cell_type": "code",
   "execution_count": null,
   "id": "de19ec99",
   "metadata": {},
   "outputs": [],
   "source": []
  }
 ],
 "metadata": {
  "kernelspec": {
   "display_name": "Python 3",
   "language": "python",
   "name": "python3"
  },
  "language_info": {
   "codemirror_mode": {
    "name": "ipython",
    "version": 3
   },
   "file_extension": ".py",
   "mimetype": "text/x-python",
   "name": "python",
   "nbconvert_exporter": "python",
   "pygments_lexer": "ipython3",
   "version": "3.8.8"
  }
 },
 "nbformat": 4,
 "nbformat_minor": 5
}
